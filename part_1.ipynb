{
 "cells": [
  {
   "cell_type": "code",
   "execution_count": 1,
   "metadata": {},
   "outputs": [
    {
     "name": "stderr",
     "output_type": "stream",
     "text": [
      "Invalid switch - \"\".\n"
     ]
    }
   ],
   "source": [
    "ls -lh data/"
   ]
  },
  {
   "cell_type": "code",
   "execution_count": 2,
   "metadata": {},
   "outputs": [],
   "source": [
    "%matplotlib inline\n",
    "import pandas as pd"
   ]
  },
  {
   "cell_type": "markdown",
   "metadata": {},
   "source": [
    "# Loading The CSV File"
   ]
  },
  {
   "cell_type": "code",
   "execution_count": 3,
   "metadata": {},
   "outputs": [
    {
     "data": {
      "text/plain": [
       "Timestamp('2018-01-01 13:20:00')"
      ]
     },
     "execution_count": 3,
     "metadata": {},
     "output_type": "execute_result"
    }
   ],
   "source": [
    "pd.to_datetime(\"2018-1-1 13:20\")"
   ]
  },
  {
   "cell_type": "code",
   "execution_count": 4,
   "metadata": {},
   "outputs": [
    {
     "data": {
      "text/plain": [
       "Timedelta('0 days 08:30:00')"
      ]
     },
     "execution_count": 4,
     "metadata": {},
     "output_type": "execute_result"
    }
   ],
   "source": [
    "pd.to_timedelta(\"08:30:00\")"
   ]
  },
  {
   "cell_type": "code",
   "execution_count": 5,
   "metadata": {},
   "outputs": [
    {
     "name": "stdout",
     "output_type": "stream",
     "text": [
      "Wall time: 20 s\n"
     ]
    }
   ],
   "source": [
    "%%time \n",
    "col_names=[\"frame\", \"x\", \"y\", \"obj\",\"size\",\"seq\",\"tbd1\",\"tbd2\",\"tbd3\",\"filename\",\"time\",\"path_time\",\"delta_time\",\"tbd4\"]\n",
    "use_cols=[\"frame\", \"x\", \"y\", \"obj\",\"size\",\"seq\",\"filename\",\"time\",\"delta_time\"]\n",
    "df=pd.read_csv('data/fixed.csv',  names = col_names,usecols=use_cols, parse_dates=['time'])\n",
    "\n",
    "df['time']= df['time'] +pd.to_timedelta(df['delta_time'])\n",
    "df=df.drop(['delta_time'],axis=1)"
   ]
  },
  {
   "cell_type": "code",
   "execution_count": 6,
   "metadata": {},
   "outputs": [
    {
     "data": {
      "text/plain": [
       "2997979"
      ]
     },
     "execution_count": 6,
     "metadata": {},
     "output_type": "execute_result"
    }
   ],
   "source": [
    "len(df)"
   ]
  },
  {
   "cell_type": "code",
   "execution_count": 7,
   "metadata": {},
   "outputs": [
    {
     "data": {
      "text/html": [
       "<div>\n",
       "<style scoped>\n",
       "    .dataframe tbody tr th:only-of-type {\n",
       "        vertical-align: middle;\n",
       "    }\n",
       "\n",
       "    .dataframe tbody tr th {\n",
       "        vertical-align: top;\n",
       "    }\n",
       "\n",
       "    .dataframe thead th {\n",
       "        text-align: right;\n",
       "    }\n",
       "</style>\n",
       "<table border=\"1\" class=\"dataframe\">\n",
       "  <thead>\n",
       "    <tr style=\"text-align: right;\">\n",
       "      <th></th>\n",
       "      <th>frame</th>\n",
       "      <th>x</th>\n",
       "      <th>y</th>\n",
       "      <th>obj</th>\n",
       "      <th>size</th>\n",
       "      <th>seq</th>\n",
       "      <th>filename</th>\n",
       "      <th>time</th>\n",
       "    </tr>\n",
       "  </thead>\n",
       "  <tbody>\n",
       "    <tr>\n",
       "      <th>0</th>\n",
       "      <td>0</td>\n",
       "      <td>14</td>\n",
       "      <td>329</td>\n",
       "      <td>0</td>\n",
       "      <td>362</td>\n",
       "      <td>0</td>\n",
       "      <td>14-16\\20170817012709_100.h264.txt</td>\n",
       "      <td>2017-08-17 01:27:09</td>\n",
       "    </tr>\n",
       "    <tr>\n",
       "      <th>1</th>\n",
       "      <td>0</td>\n",
       "      <td>4</td>\n",
       "      <td>291</td>\n",
       "      <td>1</td>\n",
       "      <td>362</td>\n",
       "      <td>0</td>\n",
       "      <td>14-16\\20170817012709_100.h264.txt</td>\n",
       "      <td>2017-08-17 01:27:09</td>\n",
       "    </tr>\n",
       "    <tr>\n",
       "      <th>2</th>\n",
       "      <td>0</td>\n",
       "      <td>629</td>\n",
       "      <td>7</td>\n",
       "      <td>2</td>\n",
       "      <td>362</td>\n",
       "      <td>0</td>\n",
       "      <td>14-16\\20170817012709_100.h264.txt</td>\n",
       "      <td>2017-08-17 01:27:09</td>\n",
       "    </tr>\n",
       "    <tr>\n",
       "      <th>3</th>\n",
       "      <td>0</td>\n",
       "      <td>253</td>\n",
       "      <td>4</td>\n",
       "      <td>3</td>\n",
       "      <td>362</td>\n",
       "      <td>0</td>\n",
       "      <td>14-16\\20170817012709_100.h264.txt</td>\n",
       "      <td>2017-08-17 01:27:09</td>\n",
       "    </tr>\n",
       "    <tr>\n",
       "      <th>4</th>\n",
       "      <td>0</td>\n",
       "      <td>185</td>\n",
       "      <td>4</td>\n",
       "      <td>4</td>\n",
       "      <td>362</td>\n",
       "      <td>0</td>\n",
       "      <td>14-16\\20170817012709_100.h264.txt</td>\n",
       "      <td>2017-08-17 01:27:09</td>\n",
       "    </tr>\n",
       "    <tr>\n",
       "      <th>5</th>\n",
       "      <td>1700</td>\n",
       "      <td>5</td>\n",
       "      <td>102</td>\n",
       "      <td>5</td>\n",
       "      <td>362</td>\n",
       "      <td>0</td>\n",
       "      <td>14-16\\20170817012709_100.h264.txt</td>\n",
       "      <td>2017-08-17 01:28:17</td>\n",
       "    </tr>\n",
       "    <tr>\n",
       "      <th>6</th>\n",
       "      <td>1701</td>\n",
       "      <td>6</td>\n",
       "      <td>102</td>\n",
       "      <td>5</td>\n",
       "      <td>362</td>\n",
       "      <td>1</td>\n",
       "      <td>14-16\\20170817012709_100.h264.txt</td>\n",
       "      <td>2017-08-17 01:28:17</td>\n",
       "    </tr>\n",
       "    <tr>\n",
       "      <th>7</th>\n",
       "      <td>1702</td>\n",
       "      <td>6</td>\n",
       "      <td>102</td>\n",
       "      <td>5</td>\n",
       "      <td>362</td>\n",
       "      <td>2</td>\n",
       "      <td>14-16\\20170817012709_100.h264.txt</td>\n",
       "      <td>2017-08-17 01:28:17</td>\n",
       "    </tr>\n",
       "    <tr>\n",
       "      <th>8</th>\n",
       "      <td>1703</td>\n",
       "      <td>7</td>\n",
       "      <td>102</td>\n",
       "      <td>5</td>\n",
       "      <td>362</td>\n",
       "      <td>3</td>\n",
       "      <td>14-16\\20170817012709_100.h264.txt</td>\n",
       "      <td>2017-08-17 01:28:17</td>\n",
       "    </tr>\n",
       "    <tr>\n",
       "      <th>9</th>\n",
       "      <td>1704</td>\n",
       "      <td>9</td>\n",
       "      <td>102</td>\n",
       "      <td>5</td>\n",
       "      <td>362</td>\n",
       "      <td>4</td>\n",
       "      <td>14-16\\20170817012709_100.h264.txt</td>\n",
       "      <td>2017-08-17 01:28:17</td>\n",
       "    </tr>\n",
       "  </tbody>\n",
       "</table>\n",
       "</div>"
      ],
      "text/plain": [
       "   frame    x    y  obj  size  seq                           filename  \\\n",
       "0      0   14  329    0   362    0  14-16\\20170817012709_100.h264.txt   \n",
       "1      0    4  291    1   362    0  14-16\\20170817012709_100.h264.txt   \n",
       "2      0  629    7    2   362    0  14-16\\20170817012709_100.h264.txt   \n",
       "3      0  253    4    3   362    0  14-16\\20170817012709_100.h264.txt   \n",
       "4      0  185    4    4   362    0  14-16\\20170817012709_100.h264.txt   \n",
       "5   1700    5  102    5   362    0  14-16\\20170817012709_100.h264.txt   \n",
       "6   1701    6  102    5   362    1  14-16\\20170817012709_100.h264.txt   \n",
       "7   1702    6  102    5   362    2  14-16\\20170817012709_100.h264.txt   \n",
       "8   1703    7  102    5   362    3  14-16\\20170817012709_100.h264.txt   \n",
       "9   1704    9  102    5   362    4  14-16\\20170817012709_100.h264.txt   \n",
       "\n",
       "                 time  \n",
       "0 2017-08-17 01:27:09  \n",
       "1 2017-08-17 01:27:09  \n",
       "2 2017-08-17 01:27:09  \n",
       "3 2017-08-17 01:27:09  \n",
       "4 2017-08-17 01:27:09  \n",
       "5 2017-08-17 01:28:17  \n",
       "6 2017-08-17 01:28:17  \n",
       "7 2017-08-17 01:28:17  \n",
       "8 2017-08-17 01:28:17  \n",
       "9 2017-08-17 01:28:17  "
      ]
     },
     "execution_count": 7,
     "metadata": {},
     "output_type": "execute_result"
    }
   ],
   "source": [
    "df.head(10)"
   ]
  },
  {
   "cell_type": "code",
   "execution_count": 8,
   "metadata": {},
   "outputs": [
    {
     "name": "stdout",
     "output_type": "stream",
     "text": [
      "<class 'pandas.core.frame.DataFrame'>\n",
      "RangeIndex: 2997979 entries, 0 to 2997978\n",
      "Data columns (total 8 columns):\n",
      "frame       int64\n",
      "x           int64\n",
      "y           int64\n",
      "obj         int64\n",
      "size        int64\n",
      "seq         int64\n",
      "filename    object\n",
      "time        datetime64[ns]\n",
      "dtypes: datetime64[ns](1), int64(6), object(1)\n",
      "memory usage: 337.3 MB\n"
     ]
    }
   ],
   "source": [
    "df.info(memory_usage='deep')"
   ]
  },
  {
   "cell_type": "code",
   "execution_count": 9,
   "metadata": {
    "scrolled": true
   },
   "outputs": [
    {
     "data": {
      "text/html": [
       "<div>\n",
       "<style scoped>\n",
       "    .dataframe tbody tr th:only-of-type {\n",
       "        vertical-align: middle;\n",
       "    }\n",
       "\n",
       "    .dataframe tbody tr th {\n",
       "        vertical-align: top;\n",
       "    }\n",
       "\n",
       "    .dataframe thead th {\n",
       "        text-align: right;\n",
       "    }\n",
       "</style>\n",
       "<table border=\"1\" class=\"dataframe\">\n",
       "  <thead>\n",
       "    <tr style=\"text-align: right;\">\n",
       "      <th></th>\n",
       "      <th>frame</th>\n",
       "      <th>x</th>\n",
       "      <th>y</th>\n",
       "      <th>obj</th>\n",
       "      <th>size</th>\n",
       "      <th>seq</th>\n",
       "    </tr>\n",
       "  </thead>\n",
       "  <tbody>\n",
       "    <tr>\n",
       "      <th>count</th>\n",
       "      <td>2.997979e+06</td>\n",
       "      <td>2.997979e+06</td>\n",
       "      <td>2.997979e+06</td>\n",
       "      <td>2.997979e+06</td>\n",
       "      <td>2.997979e+06</td>\n",
       "      <td>2.997979e+06</td>\n",
       "    </tr>\n",
       "    <tr>\n",
       "      <th>mean</th>\n",
       "      <td>8.289598e+03</td>\n",
       "      <td>2.730162e+02</td>\n",
       "      <td>1.480890e+02</td>\n",
       "      <td>5.053650e+01</td>\n",
       "      <td>4.675812e+07</td>\n",
       "      <td>1.158957e+02</td>\n",
       "    </tr>\n",
       "    <tr>\n",
       "      <th>std</th>\n",
       "      <td>5.189150e+03</td>\n",
       "      <td>1.609973e+02</td>\n",
       "      <td>7.650773e+01</td>\n",
       "      <td>8.449936e+01</td>\n",
       "      <td>3.391170e+07</td>\n",
       "      <td>1.502103e+02</td>\n",
       "    </tr>\n",
       "    <tr>\n",
       "      <th>min</th>\n",
       "      <td>0.000000e+00</td>\n",
       "      <td>3.000000e+00</td>\n",
       "      <td>3.000000e+00</td>\n",
       "      <td>0.000000e+00</td>\n",
       "      <td>3.620000e+02</td>\n",
       "      <td>0.000000e+00</td>\n",
       "    </tr>\n",
       "    <tr>\n",
       "      <th>25%</th>\n",
       "      <td>3.712000e+03</td>\n",
       "      <td>1.440000e+02</td>\n",
       "      <td>9.500000e+01</td>\n",
       "      <td>1.200000e+01</td>\n",
       "      <td>1.419073e+07</td>\n",
       "      <td>1.600000e+01</td>\n",
       "    </tr>\n",
       "    <tr>\n",
       "      <th>50%</th>\n",
       "      <td>8.119000e+03</td>\n",
       "      <td>2.690000e+02</td>\n",
       "      <td>1.340000e+02</td>\n",
       "      <td>2.800000e+01</td>\n",
       "      <td>4.510348e+07</td>\n",
       "      <td>5.900000e+01</td>\n",
       "    </tr>\n",
       "    <tr>\n",
       "      <th>75%</th>\n",
       "      <td>1.263600e+04</td>\n",
       "      <td>4.020000e+02</td>\n",
       "      <td>2.050000e+02</td>\n",
       "      <td>5.100000e+01</td>\n",
       "      <td>5.399656e+07</td>\n",
       "      <td>1.620000e+02</td>\n",
       "    </tr>\n",
       "    <tr>\n",
       "      <th>max</th>\n",
       "      <td>1.847600e+04</td>\n",
       "      <td>6.370000e+02</td>\n",
       "      <td>3.570000e+02</td>\n",
       "      <td>6.430000e+02</td>\n",
       "      <td>1.265195e+08</td>\n",
       "      <td>1.977000e+03</td>\n",
       "    </tr>\n",
       "  </tbody>\n",
       "</table>\n",
       "</div>"
      ],
      "text/plain": [
       "              frame             x             y           obj          size  \\\n",
       "count  2.997979e+06  2.997979e+06  2.997979e+06  2.997979e+06  2.997979e+06   \n",
       "mean   8.289598e+03  2.730162e+02  1.480890e+02  5.053650e+01  4.675812e+07   \n",
       "std    5.189150e+03  1.609973e+02  7.650773e+01  8.449936e+01  3.391170e+07   \n",
       "min    0.000000e+00  3.000000e+00  3.000000e+00  0.000000e+00  3.620000e+02   \n",
       "25%    3.712000e+03  1.440000e+02  9.500000e+01  1.200000e+01  1.419073e+07   \n",
       "50%    8.119000e+03  2.690000e+02  1.340000e+02  2.800000e+01  4.510348e+07   \n",
       "75%    1.263600e+04  4.020000e+02  2.050000e+02  5.100000e+01  5.399656e+07   \n",
       "max    1.847600e+04  6.370000e+02  3.570000e+02  6.430000e+02  1.265195e+08   \n",
       "\n",
       "                seq  \n",
       "count  2.997979e+06  \n",
       "mean   1.158957e+02  \n",
       "std    1.502103e+02  \n",
       "min    0.000000e+00  \n",
       "25%    1.600000e+01  \n",
       "50%    5.900000e+01  \n",
       "75%    1.620000e+02  \n",
       "max    1.977000e+03  "
      ]
     },
     "execution_count": 9,
     "metadata": {},
     "output_type": "execute_result"
    }
   ],
   "source": [
    "df.describe()"
   ]
  },
  {
   "cell_type": "code",
   "execution_count": 10,
   "metadata": {},
   "outputs": [],
   "source": [
    "\n",
    "# file_name_output = \"fixed_without_dups.csv\"\n",
    "\n",
    "# # Notes:\n",
    "# # - the `subset=None` means that every column is used \n",
    "# #    to determine if two rows are different; to change that specify\n",
    "# #    the columns as an array\n",
    "# # - the `inplace=True` means that the data structure is changed and\n",
    "# #   the duplicate rows are gone  \n",
    "# df.drop_duplicates(subset=None, inplace=True)\n",
    "\n",
    "# # Write the results to a different file\n",
    "# df.to_csv(file_name_output)\n",
    "\n"
   ]
  },
  {
   "cell_type": "code",
   "execution_count": 11,
   "metadata": {},
   "outputs": [
    {
     "data": {
      "text/plain": [
       "2997979"
      ]
     },
     "execution_count": 11,
     "metadata": {},
     "output_type": "execute_result"
    }
   ],
   "source": [
    "len(df)"
   ]
  },
  {
   "cell_type": "code",
   "execution_count": 12,
   "metadata": {},
   "outputs": [],
   "source": [
    "\n",
    "def mem_usage(pandas_obj):\n",
    "    if isinstance(pandas_obj,pd.DataFrame):\n",
    "        usage_b = pandas_obj.memory_usage(deep=True).sum()\n",
    "    else: # we assume if not a df it's a series\n",
    "        usage_b = pandas_obj.memory_usage(deep=True)\n",
    "    usage_mb = usage_b / 1024 ** 2 # convert bytes to megabytes\n",
    "    return \"{:03.2f} MB\".format(usage_mb)\n",
    "\n",
    "df_int = df.select_dtypes(include=['int64'])\n",
    "converted_int = df_int.apply(pd.to_numeric,downcast='unsigned')\n",
    "\n"
   ]
  },
  {
   "cell_type": "code",
   "execution_count": 13,
   "metadata": {},
   "outputs": [],
   "source": [
    "optimized_df = df.copy()\n",
    "\n",
    "optimized_df[converted_int.columns] = converted_int"
   ]
  },
  {
   "cell_type": "code",
   "execution_count": 14,
   "metadata": {},
   "outputs": [
    {
     "name": "stdout",
     "output_type": "stream",
     "text": [
      "<class 'pandas.core.frame.DataFrame'>\n",
      "RangeIndex: 2997979 entries, 0 to 2997978\n",
      "Data columns (total 8 columns):\n",
      "frame       uint16\n",
      "x           uint16\n",
      "y           uint16\n",
      "obj         uint16\n",
      "size        uint32\n",
      "seq         uint16\n",
      "filename    object\n",
      "time        datetime64[ns]\n",
      "dtypes: datetime64[ns](1), object(1), uint16(5), uint32(1)\n",
      "memory usage: 240.1 MB\n"
     ]
    },
    {
     "data": {
      "text/html": [
       "<div>\n",
       "<style scoped>\n",
       "    .dataframe tbody tr th:only-of-type {\n",
       "        vertical-align: middle;\n",
       "    }\n",
       "\n",
       "    .dataframe tbody tr th {\n",
       "        vertical-align: top;\n",
       "    }\n",
       "\n",
       "    .dataframe thead th {\n",
       "        text-align: right;\n",
       "    }\n",
       "</style>\n",
       "<table border=\"1\" class=\"dataframe\">\n",
       "  <thead>\n",
       "    <tr style=\"text-align: right;\">\n",
       "      <th></th>\n",
       "      <th>filename</th>\n",
       "    </tr>\n",
       "  </thead>\n",
       "  <tbody>\n",
       "    <tr>\n",
       "      <th>count</th>\n",
       "      <td>2997979</td>\n",
       "    </tr>\n",
       "    <tr>\n",
       "      <th>unique</th>\n",
       "      <td>601</td>\n",
       "    </tr>\n",
       "    <tr>\n",
       "      <th>top</th>\n",
       "      <td>14-16\\20170817015738_100.h264.txt</td>\n",
       "    </tr>\n",
       "    <tr>\n",
       "      <th>freq</th>\n",
       "      <td>120374</td>\n",
       "    </tr>\n",
       "  </tbody>\n",
       "</table>\n",
       "</div>"
      ],
      "text/plain": [
       "                                 filename\n",
       "count                             2997979\n",
       "unique                                601\n",
       "top     14-16\\20170817015738_100.h264.txt\n",
       "freq                               120374"
      ]
     },
     "execution_count": 14,
     "metadata": {},
     "output_type": "execute_result"
    }
   ],
   "source": [
    "df[converted_int.columns] = converted_int\n",
    "\n",
    "df.info(memory_usage='deep')\n",
    "df_obj = df.select_dtypes(include=['object']).copy()\n",
    "df_obj.describe()\n"
   ]
  },
  {
   "cell_type": "code",
   "execution_count": 15,
   "metadata": {},
   "outputs": [],
   "source": [
    "converted_obj = pd.DataFrame()\n",
    "\n",
    "for col in df_obj.columns:\n",
    "    num_unique_values = len(df_obj[col].unique())\n",
    "    num_total_values = len(df_obj[col])\n",
    "    if num_unique_values / num_total_values < 0.5:\n",
    "        converted_obj.loc[:,col] = df_obj[col].astype('category')\n",
    "    else:\n",
    "        converted_obj.loc[:,col] = df_obj[col]\n",
    "# print(mem_usage(df_obj))\n",
    "# print(mem_usage(converted_obj))\n",
    "\n",
    "# compare_obj = pd.concat([df_obj.dtypes,converted_obj.dtypes],axis=1)\n",
    "# compare_obj.columns = ['before','after']\n",
    "# compare_obj.apply(pd.Series.value_counts)"
   ]
  },
  {
   "cell_type": "code",
   "execution_count": 16,
   "metadata": {},
   "outputs": [
    {
     "name": "stdout",
     "output_type": "stream",
     "text": [
      "<class 'pandas.core.frame.DataFrame'>\n",
      "RangeIndex: 2997979 entries, 0 to 2997978\n",
      "Data columns (total 8 columns):\n",
      "frame       uint16\n",
      "x           uint16\n",
      "y           uint16\n",
      "obj         uint16\n",
      "size        uint32\n",
      "seq         uint16\n",
      "filename    category\n",
      "time        datetime64[ns]\n",
      "dtypes: category(1), datetime64[ns](1), uint16(5), uint32(1)\n",
      "memory usage: 68.7 MB\n"
     ]
    }
   ],
   "source": [
    "df[converted_obj.columns] = converted_obj\n",
    "df.info(memory_usage='deep')"
   ]
  },
  {
   "cell_type": "code",
   "execution_count": 17,
   "metadata": {},
   "outputs": [
    {
     "data": {
      "text/html": [
       "<div>\n",
       "<style scoped>\n",
       "    .dataframe tbody tr th:only-of-type {\n",
       "        vertical-align: middle;\n",
       "    }\n",
       "\n",
       "    .dataframe tbody tr th {\n",
       "        vertical-align: top;\n",
       "    }\n",
       "\n",
       "    .dataframe thead th {\n",
       "        text-align: right;\n",
       "    }\n",
       "</style>\n",
       "<table border=\"1\" class=\"dataframe\">\n",
       "  <thead>\n",
       "    <tr style=\"text-align: right;\">\n",
       "      <th></th>\n",
       "      <th>frame</th>\n",
       "      <th>x</th>\n",
       "      <th>y</th>\n",
       "      <th>obj</th>\n",
       "      <th>size</th>\n",
       "      <th>seq</th>\n",
       "      <th>filename</th>\n",
       "      <th>time</th>\n",
       "    </tr>\n",
       "  </thead>\n",
       "  <tbody>\n",
       "    <tr>\n",
       "      <th>0</th>\n",
       "      <td>0</td>\n",
       "      <td>14</td>\n",
       "      <td>329</td>\n",
       "      <td>0</td>\n",
       "      <td>362</td>\n",
       "      <td>0</td>\n",
       "      <td>14-16\\20170817012709_100.h264.txt</td>\n",
       "      <td>2017-08-17 01:27:09</td>\n",
       "    </tr>\n",
       "    <tr>\n",
       "      <th>1</th>\n",
       "      <td>0</td>\n",
       "      <td>4</td>\n",
       "      <td>291</td>\n",
       "      <td>1</td>\n",
       "      <td>362</td>\n",
       "      <td>0</td>\n",
       "      <td>14-16\\20170817012709_100.h264.txt</td>\n",
       "      <td>2017-08-17 01:27:09</td>\n",
       "    </tr>\n",
       "    <tr>\n",
       "      <th>2</th>\n",
       "      <td>0</td>\n",
       "      <td>629</td>\n",
       "      <td>7</td>\n",
       "      <td>2</td>\n",
       "      <td>362</td>\n",
       "      <td>0</td>\n",
       "      <td>14-16\\20170817012709_100.h264.txt</td>\n",
       "      <td>2017-08-17 01:27:09</td>\n",
       "    </tr>\n",
       "    <tr>\n",
       "      <th>3</th>\n",
       "      <td>0</td>\n",
       "      <td>253</td>\n",
       "      <td>4</td>\n",
       "      <td>3</td>\n",
       "      <td>362</td>\n",
       "      <td>0</td>\n",
       "      <td>14-16\\20170817012709_100.h264.txt</td>\n",
       "      <td>2017-08-17 01:27:09</td>\n",
       "    </tr>\n",
       "    <tr>\n",
       "      <th>4</th>\n",
       "      <td>0</td>\n",
       "      <td>185</td>\n",
       "      <td>4</td>\n",
       "      <td>4</td>\n",
       "      <td>362</td>\n",
       "      <td>0</td>\n",
       "      <td>14-16\\20170817012709_100.h264.txt</td>\n",
       "      <td>2017-08-17 01:27:09</td>\n",
       "    </tr>\n",
       "  </tbody>\n",
       "</table>\n",
       "</div>"
      ],
      "text/plain": [
       "   frame    x    y  obj  size  seq                           filename  \\\n",
       "0      0   14  329    0   362    0  14-16\\20170817012709_100.h264.txt   \n",
       "1      0    4  291    1   362    0  14-16\\20170817012709_100.h264.txt   \n",
       "2      0  629    7    2   362    0  14-16\\20170817012709_100.h264.txt   \n",
       "3      0  253    4    3   362    0  14-16\\20170817012709_100.h264.txt   \n",
       "4      0  185    4    4   362    0  14-16\\20170817012709_100.h264.txt   \n",
       "\n",
       "                 time  \n",
       "0 2017-08-17 01:27:09  \n",
       "1 2017-08-17 01:27:09  \n",
       "2 2017-08-17 01:27:09  \n",
       "3 2017-08-17 01:27:09  \n",
       "4 2017-08-17 01:27:09  "
      ]
     },
     "execution_count": 17,
     "metadata": {},
     "output_type": "execute_result"
    }
   ],
   "source": [
    "df.head()"
   ]
  },
  {
   "cell_type": "code",
   "execution_count": 18,
   "metadata": {},
   "outputs": [
    {
     "name": "stdout",
     "output_type": "stream",
     "text": [
      "Wall time: 24.3 s\n"
     ]
    }
   ],
   "source": [
    "%time df.to_pickle('data/paths.pkl.xz')"
   ]
  },
  {
   "cell_type": "code",
   "execution_count": 19,
   "metadata": {},
   "outputs": [
    {
     "name": "stdout",
     "output_type": "stream",
     "text": [
      "Wall time: 1.32 s\n",
      "<class 'pandas.core.frame.DataFrame'>\n",
      "RangeIndex: 2997979 entries, 0 to 2997978\n",
      "Data columns (total 8 columns):\n",
      "frame       uint16\n",
      "x           uint16\n",
      "y           uint16\n",
      "obj         uint16\n",
      "size        uint32\n",
      "seq         uint16\n",
      "filename    category\n",
      "time        datetime64[ns]\n",
      "dtypes: category(1), datetime64[ns](1), uint16(5), uint32(1)\n",
      "memory usage: 68.6 MB\n"
     ]
    }
   ],
   "source": [
    "%time pickle=pd.read_pickle('data/paths.pkl.xz')\n",
    "pickle.info()"
   ]
  },
  {
   "cell_type": "code",
   "execution_count": 20,
   "metadata": {},
   "outputs": [
    {
     "data": {
      "text/plain": [
       "3.537672"
      ]
     },
     "execution_count": 20,
     "metadata": {},
     "output_type": "execute_result"
    }
   ],
   "source": [
    "import os\n",
    "os.path.getsize('data/paths.pkl.xz')/1000000\n"
   ]
  },
  {
   "cell_type": "code",
   "execution_count": null,
   "metadata": {},
   "outputs": [],
   "source": []
  }
 ],
 "metadata": {
  "kernelspec": {
   "display_name": "Python 3",
   "language": "python",
   "name": "python3"
  },
  "language_info": {
   "codemirror_mode": {
    "name": "ipython",
    "version": 3
   },
   "file_extension": ".py",
   "mimetype": "text/x-python",
   "name": "python",
   "nbconvert_exporter": "python",
   "pygments_lexer": "ipython3",
   "version": "3.7.0"
  }
 },
 "nbformat": 4,
 "nbformat_minor": 2
}
